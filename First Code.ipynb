{
 "cells": [
  {
   "cell_type": "code",
   "execution_count": 1,
   "id": "71b63fcc",
   "metadata": {},
   "outputs": [
    {
     "name": "stdout",
     "output_type": "stream",
     "text": [
      "Hello World\n"
     ]
    }
   ],
   "source": [
    "print(\"Hello World\")"
   ]
  },
  {
   "cell_type": "code",
   "execution_count": 1,
   "id": "3ac1f30f",
   "metadata": {},
   "outputs": [
    {
     "data": {
      "text/plain": [
       "str"
      ]
     },
     "execution_count": 1,
     "metadata": {},
     "output_type": "execute_result"
    }
   ],
   "source": [
    "type('Hello World')"
   ]
  },
  {
   "cell_type": "code",
   "execution_count": 8,
   "id": "c14c11a3",
   "metadata": {},
   "outputs": [
    {
     "data": {
      "text/plain": [
       "42.0"
      ]
     },
     "execution_count": 8,
     "metadata": {},
     "output_type": "execute_result"
    }
   ],
   "source": [
    "4.2e1"
   ]
  },
  {
   "cell_type": "code",
   "execution_count": 9,
   "id": "a46b84f2",
   "metadata": {},
   "outputs": [
    {
     "data": {
      "text/plain": [
       "float"
      ]
     },
     "execution_count": 9,
     "metadata": {},
     "output_type": "execute_result"
    }
   ],
   "source": [
    "type(4.2e1)"
   ]
  },
  {
   "cell_type": "code",
   "execution_count": 2,
   "id": "33c3507b",
   "metadata": {},
   "outputs": [
    {
     "data": {
      "text/plain": [
       "complex"
      ]
     },
     "execution_count": 2,
     "metadata": {},
     "output_type": "execute_result"
    }
   ],
   "source": [
    "f=2-3j\n",
    "type(f)"
   ]
  },
  {
   "cell_type": "code",
   "execution_count": 10,
   "id": "3b79ba00",
   "metadata": {},
   "outputs": [
    {
     "data": {
      "text/plain": [
       "'My name is : \"Ankita\" '"
      ]
     },
     "execution_count": 10,
     "metadata": {},
     "output_type": "execute_result"
    }
   ],
   "source": [
    "\"My name is : \\\"Ankita\\\" \""
   ]
  },
  {
   "cell_type": "code",
   "execution_count": 11,
   "id": "468a69c4",
   "metadata": {},
   "outputs": [
    {
     "name": "stdout",
     "output_type": "stream",
     "text": [
      "this is me\\\n"
     ]
    }
   ],
   "source": [
    "print(\"this is me\\\\\")"
   ]
  },
  {
   "cell_type": "code",
   "execution_count": 14,
   "id": "3116cd75",
   "metadata": {},
   "outputs": [
    {
     "name": "stdout",
     "output_type": "stream",
     "text": [
      "20 10\n"
     ]
    }
   ],
   "source": [
    "#swap\n",
    "A=10\n",
    "B=20\n",
    "A,B=B,A\n",
    "print(A,B)"
   ]
  },
  {
   "cell_type": "code",
   "execution_count": 17,
   "id": "2a82b0bb",
   "metadata": {},
   "outputs": [
    {
     "name": "stdout",
     "output_type": "stream",
     "text": [
      "enter first namek\n",
      "enter last named\n",
      "k d\n"
     ]
    }
   ],
   "source": [
    "fname = input(\"enter first name\")\n",
    "lname = input(\"enter last name\")\n",
    "print(fname,lname)"
   ]
  },
  {
   "cell_type": "code",
   "execution_count": 20,
   "id": "2708bea6",
   "metadata": {},
   "outputs": [
    {
     "name": "stdout",
     "output_type": "stream",
     "text": [
      "length7\n",
      "breadth8\n",
      "56\n"
     ]
    }
   ],
   "source": [
    "leng = int(input(\"length\"))\n",
    "b = int(input(\"breadth\"))\n",
    "area = leng * b\n",
    "print(area)"
   ]
  },
  {
   "cell_type": "code",
   "execution_count": 21,
   "id": "b0bb7298",
   "metadata": {},
   "outputs": [
    {
     "name": "stdout",
     "output_type": "stream",
     "text": [
      "Yes\n"
     ]
    },
    {
     "data": {
      "text/plain": [
       "123"
      ]
     },
     "execution_count": 21,
     "metadata": {},
     "output_type": "execute_result"
    }
   ],
   "source": [
    "eval('print(\"Yes\")')\n",
    "eval('123')\n",
    "#automatically determine the type"
   ]
  },
  {
   "cell_type": "code",
   "execution_count": 22,
   "id": "f1179c67",
   "metadata": {},
   "outputs": [
    {
     "name": "stdout",
     "output_type": "stream",
     "text": [
      "20.259\n"
     ]
    }
   ],
   "source": [
    "l=3.5674455\n",
    "b=5.678956\n",
    "area=l*b\n",
    "print(format(area,\".3f\"))\n",
    "#format the funtion to fiven demand\n",
    "#format for string goes for length like 20s, is format a string to 20 length character\n",
    "#format for percentage <10.3% which means the number will multiply to 100 and will be upto 3 decimal places"
   ]
  },
  {
   "cell_type": "code",
   "execution_count": 23,
   "id": "68a0d2fe",
   "metadata": {},
   "outputs": [],
   "source": [
    "import math"
   ]
  },
  {
   "cell_type": "code",
   "execution_count": 24,
   "id": "52df6578",
   "metadata": {},
   "outputs": [
    {
     "data": {
      "text/plain": [
       "2.0"
      ]
     },
     "execution_count": 24,
     "metadata": {},
     "output_type": "execute_result"
    }
   ],
   "source": [
    "math.sqrt(4)"
   ]
  },
  {
   "cell_type": "code",
   "execution_count": 26,
   "id": "0f65e892",
   "metadata": {},
   "outputs": [
    {
     "name": "stdout",
     "output_type": "stream",
     "text": [
      "Enter first namee\n",
      "Enter last namee\n",
      "Enter your addresse\n",
      "Enter your salary786\n",
      "enter your mobile78687\n",
      "e\te\n",
      "e91-78687jjjjjjjjjjjjjjjjjj65.50\n"
     ]
    }
   ],
   "source": [
    "fname = input(\"Enter first name\")\n",
    "lname = input(\"Enter last name\")\n",
    "address = input(\"Enter your address\")\n",
    "salary = int(input(\"Enter your salary\"))\n",
    "mno = input(\"enter your mobile\")\n",
    "mno = '91-'+ mno\n",
    "monsalary = float(salary/12)\n",
    "format_sal=format(monsalary,\".2f\")\n",
    "print(fname+'\\t'+lname+'\\n'+lname+mno+format_sal.rjust(23,'j'))"
   ]
  },
  {
   "cell_type": "code",
   "execution_count": 2,
   "id": "5b760fea",
   "metadata": {},
   "outputs": [
    {
     "name": "stdout",
     "output_type": "stream",
     "text": [
      "a=1 , b=2, c=3\n",
      "a=4 , b=5, c=6\n",
      "a=7 , b=8, c=9\n"
     ]
    }
   ],
   "source": [
    "seq = [(1 , 2 , 3), (4 , 5 , 6), (7 , 8 , 9)]\n",
    "for a , b, c in seq:\n",
    "    print('a={0} , b={1}, c={2}'.format(a,b,c))"
   ]
  },
  {
   "cell_type": "code",
   "execution_count": 4,
   "id": "732321b5",
   "metadata": {
    "scrolled": true
   },
   "outputs": [
    {
     "name": "stdout",
     "output_type": "stream",
     "text": [
      "a b are 1 2 rest are [3, 4, 5]\n"
     ]
    },
    {
     "data": {
      "text/plain": [
       "1"
      ]
     },
     "execution_count": 4,
     "metadata": {},
     "output_type": "execute_result"
    }
   ],
   "source": [
    "values = 1, 2, 3, 4, 5\n",
    "a, b, *rest = values\n",
    "print('a b are', a, b, 'rest are',rest)\n",
    "values.count(1)"
   ]
  },
  {
   "cell_type": "markdown",
   "id": "2d3010af",
   "metadata": {},
   "source": [
    "My Practice Code"
   ]
  },
  {
   "cell_type": "code",
   "execution_count": 3,
   "id": "1044ceda",
   "metadata": {},
   "outputs": [
    {
     "name": "stdout",
     "output_type": "stream",
     "text": [
      "Enter the number: 86876876\n",
      "1\n",
      "2\n",
      "4\n",
      "21719219\n",
      "43438438\n",
      "86876876\n"
     ]
    }
   ],
   "source": [
    "def factors(num):\n",
    "    list_factor=[]\n",
    "    for i in range(1,num+1):\n",
    "        if num % i ==0:\n",
    "            list_factor.append(i)\n",
    "    return list_factor\n",
    "num = int(input(\"Enter the number: \"))\n",
    "factor_n = factors(num)\n",
    "for i in range(len(factor_n)):\n",
    "    print(factor_n[i])\n",
    "        \n",
    "    "
   ]
  },
  {
   "cell_type": "markdown",
   "id": "99dfc396",
   "metadata": {},
   "source": [
    "**Alternate Tuple**\n"
   ]
  },
  {
   "cell_type": "code",
   "execution_count": null,
   "id": "10eba906",
   "metadata": {},
   "outputs": [],
   "source": [
    "def altr_tuple(tup):\n",
    "    tup1=()\n",
    "    for i in range(len(tup)):\n",
    "        if i % 2 ==0:\n",
    "           tup1 += (tup[i], ) \n",
    "    return tup1\n",
    "num = int(input(\"enter the number of elements in the tuple: \"))\n",
    "emp =[]\n",
    "for i in range(num):\n",
    "    abc = print(\"enter the tuple:\")\n",
    "    emp.append(abc)"
   ]
  },
  {
   "cell_type": "code",
   "execution_count": 5,
   "id": "d723d90a",
   "metadata": {},
   "outputs": [
    {
     "data": {
      "text/plain": [
       "True"
      ]
     },
     "execution_count": 5,
     "metadata": {},
     "output_type": "execute_result"
    }
   ],
   "source": [
    "tup1=2,3\n",
    "tup2=(2,3)\n",
    "tup1==tup2"
   ]
  },
  {
   "cell_type": "code",
   "execution_count": 6,
   "id": "3299121d",
   "metadata": {},
   "outputs": [
    {
     "name": "stdout",
     "output_type": "stream",
     "text": [
      "[1, 2, 3, 1, 2, 3]\n"
     ]
    }
   ],
   "source": [
    "l1=[1,2,3]\n",
    "print(2*l1)"
   ]
  },
  {
   "cell_type": "code",
   "execution_count": 10,
   "id": "39368dbb",
   "metadata": {
    "scrolled": false
   },
   "outputs": [
    {
     "name": "stdout",
     "output_type": "stream",
     "text": [
      "3\n"
     ]
    }
   ],
   "source": [
    "n=set([1,2,3,1])\n",
    "print(len(n))"
   ]
  },
  {
   "cell_type": "code",
   "execution_count": null,
   "id": "80a1dba3",
   "metadata": {},
   "outputs": [],
   "source": []
  }
 ],
 "metadata": {
  "kernelspec": {
   "display_name": "Python 3",
   "language": "python",
   "name": "python3"
  },
  "language_info": {
   "codemirror_mode": {
    "name": "ipython",
    "version": 3
   },
   "file_extension": ".py",
   "mimetype": "text/x-python",
   "name": "python",
   "nbconvert_exporter": "python",
   "pygments_lexer": "ipython3",
   "version": "3.8.8"
  }
 },
 "nbformat": 4,
 "nbformat_minor": 5
}
